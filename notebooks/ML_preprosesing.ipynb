{
 "cells": [
  {
   "cell_type": "code",
   "execution_count": 20,
   "metadata": {},
   "outputs": [
    {
     "name": "stderr",
     "output_type": "stream",
     "text": [
      "[nltk_data] Downloading package punkt to\n",
      "[nltk_data]     C:\\Users\\Miguel\\AppData\\Roaming\\nltk_data...\n",
      "[nltk_data]   Package punkt is already up-to-date!\n",
      "[nltk_data] Downloading package stopwords to\n",
      "[nltk_data]     C:\\Users\\Miguel\\AppData\\Roaming\\nltk_data...\n",
      "[nltk_data]   Package stopwords is already up-to-date!\n"
     ]
    },
    {
     "data": {
      "text/plain": [
       "True"
      ]
     },
     "execution_count": 20,
     "metadata": {},
     "output_type": "execute_result"
    }
   ],
   "source": [
    "import pandas as pd\n",
    "import numpy as np\n",
    "from nltk import word_tokenize\n",
    "from scipy.sparse import hstack\n",
    "from sklearn.metrics.pairwise import cosine_similarity\n",
    "from sklearn.feature_extraction.text import TfidfVectorizer\n",
    "import nltk\n",
    "from nltk.corpus import stopwords\n",
    "nltk.download('punkt')\n",
    "nltk.download('stopwords')"
   ]
  },
  {
   "cell_type": "code",
   "execution_count": 21,
   "metadata": {},
   "outputs": [],
   "source": [
    "moviesML = pd.read_csv('../data/moviesEDA.csv')\n",
    "vectorizer = TfidfVectorizer(stop_words='english')\n",
    "lista_matrices = []\n",
    "#movies_preprosesing = movies.head(5000)\n",
    "for i in moviesML.columns:\n",
    "    matriz = vectorizer.fit_transform(moviesML[i])\n",
    "    lista_matrices.append(matriz)\n"
   ]
  },
  {
   "cell_type": "code",
   "execution_count": 22,
   "metadata": {},
   "outputs": [
    {
     "data": {
      "text/html": [
       "<div>\n",
       "<style scoped>\n",
       "    .dataframe tbody tr th:only-of-type {\n",
       "        vertical-align: middle;\n",
       "    }\n",
       "\n",
       "    .dataframe tbody tr th {\n",
       "        vertical-align: top;\n",
       "    }\n",
       "\n",
       "    .dataframe thead th {\n",
       "        text-align: right;\n",
       "    }\n",
       "</style>\n",
       "<table border=\"1\" class=\"dataframe\">\n",
       "  <thead>\n",
       "    <tr style=\"text-align: right;\">\n",
       "      <th></th>\n",
       "      <th>genres</th>\n",
       "      <th>overview</th>\n",
       "      <th>production_companies</th>\n",
       "      <th>production_countries</th>\n",
       "      <th>spoken_languages</th>\n",
       "      <th>title</th>\n",
       "      <th>director</th>\n",
       "    </tr>\n",
       "  </thead>\n",
       "  <tbody>\n",
       "    <tr>\n",
       "      <th>0</th>\n",
       "      <td>Animation, Comedy, Family</td>\n",
       "      <td>Led by Woody, Andy's toys live happily in his ...</td>\n",
       "      <td>Pixar Animation Studios</td>\n",
       "      <td>United States of America</td>\n",
       "      <td>English</td>\n",
       "      <td>Toy Story</td>\n",
       "      <td>John Lasseter</td>\n",
       "    </tr>\n",
       "    <tr>\n",
       "      <th>1</th>\n",
       "      <td>Adventure, Fantasy, Family</td>\n",
       "      <td>When siblings Judy and Peter discover an encha...</td>\n",
       "      <td>TriStar Pictures, Teitler Film, Interscope Com...</td>\n",
       "      <td>United States of America</td>\n",
       "      <td>English, Français</td>\n",
       "      <td>Jumanji</td>\n",
       "      <td>Joe Johnston</td>\n",
       "    </tr>\n",
       "    <tr>\n",
       "      <th>2</th>\n",
       "      <td>Romance, Comedy</td>\n",
       "      <td>A family wedding reignites the ancient feud be...</td>\n",
       "      <td>Warner Bros., Lancaster Gate</td>\n",
       "      <td>United States of America</td>\n",
       "      <td>English</td>\n",
       "      <td>Grumpier Old Men</td>\n",
       "      <td>Howard Deutch</td>\n",
       "    </tr>\n",
       "    <tr>\n",
       "      <th>3</th>\n",
       "      <td>Comedy, Drama, Romance</td>\n",
       "      <td>Cheated on, mistreated and stepped on, the wom...</td>\n",
       "      <td>Twentieth Century Fox Film Corporation</td>\n",
       "      <td>United States of America</td>\n",
       "      <td>English</td>\n",
       "      <td>Waiting to Exhale</td>\n",
       "      <td>Forest Whitaker</td>\n",
       "    </tr>\n",
       "    <tr>\n",
       "      <th>4</th>\n",
       "      <td>Comedy</td>\n",
       "      <td>Just when George Banks has recovered from his ...</td>\n",
       "      <td>Sandollar Productions, Touchstone Pictures</td>\n",
       "      <td>United States of America</td>\n",
       "      <td>English</td>\n",
       "      <td>Father of the Bride Part II</td>\n",
       "      <td>Charles Shyer</td>\n",
       "    </tr>\n",
       "    <tr>\n",
       "      <th>...</th>\n",
       "      <td>...</td>\n",
       "      <td>...</td>\n",
       "      <td>...</td>\n",
       "      <td>...</td>\n",
       "      <td>...</td>\n",
       "      <td>...</td>\n",
       "      <td>...</td>\n",
       "    </tr>\n",
       "    <tr>\n",
       "      <th>31222</th>\n",
       "      <td>Horror, Mystery, Thriller</td>\n",
       "      <td>An unsuccessful sculptor saves a madman named ...</td>\n",
       "      <td>Universal Pictures</td>\n",
       "      <td>United States of America</td>\n",
       "      <td>English</td>\n",
       "      <td>House of Horrors</td>\n",
       "      <td>Georges Méliès</td>\n",
       "    </tr>\n",
       "    <tr>\n",
       "      <th>31223</th>\n",
       "      <td>Horror</td>\n",
       "      <td>A film archivist revisits the story of Rustin ...</td>\n",
       "      <td>Neptune Salad Entertainment, Pirie Productions</td>\n",
       "      <td>United States of America</td>\n",
       "      <td>English</td>\n",
       "      <td>The Burkittsville 7</td>\n",
       "      <td>Georges Méliès</td>\n",
       "    </tr>\n",
       "    <tr>\n",
       "      <th>31224</th>\n",
       "      <td>Science Fiction</td>\n",
       "      <td>It's the year 3000 AD. The world's most danger...</td>\n",
       "      <td>Concorde-New Horizons</td>\n",
       "      <td>United States of America</td>\n",
       "      <td>English</td>\n",
       "      <td>Caged Heat 3000</td>\n",
       "      <td>Saul Blinkoff</td>\n",
       "    </tr>\n",
       "    <tr>\n",
       "      <th>31225</th>\n",
       "      <td>Drama, Action, Romance</td>\n",
       "      <td>Yet another version of the classic epic, with ...</td>\n",
       "      <td>Westdeutscher Rundfunk (WDR), Working Title Fi...</td>\n",
       "      <td>Canada, Germany, United Kingdom, United States...</td>\n",
       "      <td>English</td>\n",
       "      <td>Robin Hood</td>\n",
       "      <td>Georges Méliès</td>\n",
       "    </tr>\n",
       "    <tr>\n",
       "      <th>31226</th>\n",
       "      <td>Action, Drama, Thriller</td>\n",
       "      <td>When one of her hits goes wrong, a professiona...</td>\n",
       "      <td>American World Pictures</td>\n",
       "      <td>United States of America</td>\n",
       "      <td>English</td>\n",
       "      <td>Betrayal</td>\n",
       "      <td>Ravi Udyawar</td>\n",
       "    </tr>\n",
       "  </tbody>\n",
       "</table>\n",
       "<p>31227 rows × 7 columns</p>\n",
       "</div>"
      ],
      "text/plain": [
       "                           genres  \\\n",
       "0       Animation, Comedy, Family   \n",
       "1      Adventure, Fantasy, Family   \n",
       "2                 Romance, Comedy   \n",
       "3          Comedy, Drama, Romance   \n",
       "4                          Comedy   \n",
       "...                           ...   \n",
       "31222   Horror, Mystery, Thriller   \n",
       "31223                      Horror   \n",
       "31224             Science Fiction   \n",
       "31225      Drama, Action, Romance   \n",
       "31226     Action, Drama, Thriller   \n",
       "\n",
       "                                                overview  \\\n",
       "0      Led by Woody, Andy's toys live happily in his ...   \n",
       "1      When siblings Judy and Peter discover an encha...   \n",
       "2      A family wedding reignites the ancient feud be...   \n",
       "3      Cheated on, mistreated and stepped on, the wom...   \n",
       "4      Just when George Banks has recovered from his ...   \n",
       "...                                                  ...   \n",
       "31222  An unsuccessful sculptor saves a madman named ...   \n",
       "31223  A film archivist revisits the story of Rustin ...   \n",
       "31224  It's the year 3000 AD. The world's most danger...   \n",
       "31225  Yet another version of the classic epic, with ...   \n",
       "31226  When one of her hits goes wrong, a professiona...   \n",
       "\n",
       "                                    production_companies  \\\n",
       "0                                Pixar Animation Studios   \n",
       "1      TriStar Pictures, Teitler Film, Interscope Com...   \n",
       "2                           Warner Bros., Lancaster Gate   \n",
       "3                 Twentieth Century Fox Film Corporation   \n",
       "4             Sandollar Productions, Touchstone Pictures   \n",
       "...                                                  ...   \n",
       "31222                                 Universal Pictures   \n",
       "31223     Neptune Salad Entertainment, Pirie Productions   \n",
       "31224                              Concorde-New Horizons   \n",
       "31225  Westdeutscher Rundfunk (WDR), Working Title Fi...   \n",
       "31226                            American World Pictures   \n",
       "\n",
       "                                    production_countries   spoken_languages  \\\n",
       "0                               United States of America            English   \n",
       "1                               United States of America  English, Français   \n",
       "2                               United States of America            English   \n",
       "3                               United States of America            English   \n",
       "4                               United States of America            English   \n",
       "...                                                  ...                ...   \n",
       "31222                           United States of America            English   \n",
       "31223                           United States of America            English   \n",
       "31224                           United States of America            English   \n",
       "31225  Canada, Germany, United Kingdom, United States...            English   \n",
       "31226                           United States of America            English   \n",
       "\n",
       "                             title         director  \n",
       "0                        Toy Story    John Lasseter  \n",
       "1                          Jumanji     Joe Johnston  \n",
       "2                 Grumpier Old Men    Howard Deutch  \n",
       "3                Waiting to Exhale  Forest Whitaker  \n",
       "4      Father of the Bride Part II    Charles Shyer  \n",
       "...                            ...              ...  \n",
       "31222             House of Horrors   Georges Méliès  \n",
       "31223          The Burkittsville 7   Georges Méliès  \n",
       "31224              Caged Heat 3000    Saul Blinkoff  \n",
       "31225                   Robin Hood   Georges Méliès  \n",
       "31226                     Betrayal     Ravi Udyawar  \n",
       "\n",
       "[31227 rows x 7 columns]"
      ]
     },
     "execution_count": 22,
     "metadata": {},
     "output_type": "execute_result"
    }
   ],
   "source": [
    "moviesML"
   ]
  },
  {
   "cell_type": "code",
   "execution_count": 23,
   "metadata": {},
   "outputs": [],
   "source": [
    "combinacion_matrices = hstack(lista_matrices).tocsr() if len(lista_matrices) > 1 else lista_matrices[0]"
   ]
  },
  {
   "cell_type": "code",
   "execution_count": 24,
   "metadata": {},
   "outputs": [],
   "source": [
    "def similitud_coseno(idx, matriz):\n",
    "    return cosine_similarity(matriz[idx], matriz).flatten()"
   ]
  },
  {
   "cell_type": "code",
   "execution_count": 25,
   "metadata": {},
   "outputs": [],
   "source": [
    "def recomendador(title:str):\n",
    "    \n",
    "    titulo_filmacion = moviesML[moviesML['title'].str.lower() == title.lower()]\n",
    "    if titulo_filmacion.empty:\n",
    "        return f'La película {title} no existe en la base de datos'\n",
    "\n",
    "    idx = titulo_filmacion.index[0]\n",
    "    score = similitud_coseno(idx, combinacion_matrices)\n",
    "\n",
    "    lista_pelis = list(enumerate(score))\n",
    "    lista_pelis = sorted(lista_pelis, key=lambda x: x[1], reverse=True)\n",
    "    lista_pelis = lista_pelis[1:6]\n",
    "\n",
    "    indices = [i[0] for i in lista_pelis]\n",
    "\n",
    "    return moviesML['title'].iloc[indices].tolist() # type: ignore"
   ]
  },
  {
   "cell_type": "code",
   "execution_count": 28,
   "metadata": {},
   "outputs": [
    {
     "data": {
      "text/plain": [
       "['Toy Story', 'Toy Story 2', 'Tin Toy', 'Cars', 'Cars 2']"
      ]
     },
     "execution_count": 28,
     "metadata": {},
     "output_type": "execute_result"
    }
   ],
   "source": [
    "recomendador(\"A Bug's Life\")"
   ]
  },
  {
   "cell_type": "code",
   "execution_count": 29,
   "metadata": {},
   "outputs": [
    {
     "data": {
      "text/plain": [
       "'3.8.1'"
      ]
     },
     "execution_count": 29,
     "metadata": {},
     "output_type": "execute_result"
    }
   ],
   "source": [
    "nltk.__version__"
   ]
  }
 ],
 "metadata": {
  "kernelspec": {
   "display_name": "Proyecto_integrador1",
   "language": "python",
   "name": "python3"
  },
  "language_info": {
   "codemirror_mode": {
    "name": "ipython",
    "version": 3
   },
   "file_extension": ".py",
   "mimetype": "text/x-python",
   "name": "python",
   "nbconvert_exporter": "python",
   "pygments_lexer": "ipython3",
   "version": "3.12.2"
  }
 },
 "nbformat": 4,
 "nbformat_minor": 2
}
