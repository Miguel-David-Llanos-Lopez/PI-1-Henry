{
 "cells": [
  {
   "cell_type": "markdown",
   "metadata": {},
   "source": [
    "# Importaciones y funciones necesarias"
   ]
  },
  {
   "cell_type": "code",
   "execution_count": null,
   "metadata": {},
   "outputs": [],
   "source": [
    "#importamos la librerias necesarias\n",
    "from numpy import nan\n",
    "import pandas as pd\n",
    "import ast"
   ]
  },
  {
   "cell_type": "code",
   "execution_count": null,
   "metadata": {},
   "outputs": [],
   "source": [
    "#creamos una funcion para buscar el indice name \n",
    "def buscar_nombre(lista):\n",
    "    #en este caso esto convierte los objetos a listas\n",
    "    lista = ast.literal_eval(lista)\n",
    "    # en caso de haber mas de un diccionario con la clave name devuelve todos los valores concatenados\n",
    "    return ', '.join([i['name'] for i in lista])\n",
    "\n",
    "#creamos otra funcion con la misma logica  que buscar nombre pero modificada para funcionar con diccionarios\n",
    "def buscar_nombre_diccionario(dicc):\n",
    "    #en este caso esto convierte los objetos a diccionarios\n",
    "    dicc = ast.literal_eval(dicc)\n",
    "    return dicc['name']\n",
    "\n",
    "#creamos una funcion para buscar el indice name si el job es igual a director\n",
    "def buscar_nombre_director(lista):\n",
    "    #en este caso esto convierte los objetos a listas\n",
    "    lista = ast.literal_eval(lista)\n",
    "    for i in lista:\n",
    "            if i['job'] == 'Director':\n",
    "                return i['name']\n",
    "            else: continue\n"
   ]
  },
  {
   "cell_type": "markdown",
   "metadata": {},
   "source": [
    "# ETL de movies_dataset.csv"
   ]
  },
  {
   "cell_type": "code",
   "execution_count": null,
   "metadata": {},
   "outputs": [],
   "source": [
    "#leemos el csv\n",
    "movies = pd.read_csv('./data/movies_dataset.csv')\n",
    "#comprobamos que el dataframe este cargado correctamente\n",
    "movies"
   ]
  },
  {
   "cell_type": "code",
   "execution_count": null,
   "metadata": {},
   "outputs": [],
   "source": [
    "#comprobamos el tamaño del dataframe\n",
    "print(movies.shape)\n",
    "#removemos los valores duplicados\n",
    "movies.drop_duplicates(inplace=True)\n",
    "print(movies.shape)\n",
    "#removemos las columnas que no se utilizaran y/o estan duplicadas\n",
    "movies = movies.drop(columns=['video', 'adult', 'imdb_id', 'original_title', 'poster_path', 'homepage', 'overview','tagline'])\n",
    "print(movies.shape)\n"
   ]
  },
  {
   "cell_type": "code",
   "execution_count": null,
   "metadata": {},
   "outputs": [],
   "source": [
    "#remplazamos los nulos por 0\n",
    "movies['revenue'] = movies['revenue'].fillna('0')\n",
    "movies['budget'] = movies['budget'].fillna('0')"
   ]
  },
  {
   "cell_type": "code",
   "execution_count": null,
   "metadata": {},
   "outputs": [],
   "source": [
    "#removemos las filas con valores faltantes en la columna release_date\n",
    "movies = movies.dropna(subset=['release_date'])\n",
    "#eliminamos las filas que no sigan el formato AAAA-MM-DD en la columna release_date\n",
    "movies['release_date'] = pd.to_datetime(movies['release_date'], format='%Y-%m-%d', errors='coerce')\n",
    "movies = movies.dropna(subset=['release_date'])"
   ]
  },
  {
   "cell_type": "code",
   "execution_count": null,
   "metadata": {},
   "outputs": [],
   "source": [
    "#creamos la columna year \n",
    "movies['released_year'] = movies['release_date'].dt.year"
   ]
  },
  {
   "cell_type": "code",
   "execution_count": null,
   "metadata": {},
   "outputs": [],
   "source": [
    "#cambiamos el tipo de las columnas budget y revenue a int para poder hacer operaciones\n",
    "movies['budget'] = movies['budget'].astype(int)\n",
    "movies['revenue'] = movies['revenue'].astype(int)\n",
    "#creamos la columna return que es la columna revenue entre la columna budget\n",
    "    #en caso de que uno de los numeros sea 0 devolvera 0\n",
    "movies['return'] = movies.apply(lambda fila: fila['revenue'] / fila['budget'] if fila['budget'] != 0 else 0, axis=1)\n"
   ]
  },
  {
   "cell_type": "code",
   "execution_count": null,
   "metadata": {},
   "outputs": [],
   "source": [
    "#aplicamos la funcion buscar_nombre a las columnas para desanidar los datos \n",
    "movies['genres'] = movies['genres'].fillna('[]').apply(buscar_nombre)\n",
    "movies['spoken_languages'] = movies['spoken_languages'].fillna('[]').apply(buscar_nombre)\n",
    "movies['production_companies'] = movies['production_companies'].fillna('[]').apply(buscar_nombre)\n",
    "movies['production_countries'] = movies['production_countries'].fillna('[]').apply(buscar_nombre)"
   ]
  },
  {
   "cell_type": "code",
   "execution_count": null,
   "metadata": {},
   "outputs": [],
   "source": [
    "#en caso de no haber datos en belongs_to_collection la funcion fillna crea un diccionario con la clave name y el valor \"NA\"\n",
    "    #de no hacerlo daria un key error al ejecutar la funcion buscar_nombre_diccionario\n",
    "movies['belongs_to_collection'] = movies['belongs_to_collection'].fillna('{\"name\":\"NA\"}').apply(buscar_nombre_diccionario)\n",
    "\n",
    "movies['belongs_to_collection'] = movies['belongs_to_collection'].replace('NA', nan)"
   ]
  },
  {
   "cell_type": "code",
   "execution_count": null,
   "metadata": {},
   "outputs": [],
   "source": [
    "movies"
   ]
  },
  {
   "cell_type": "markdown",
   "metadata": {},
   "source": [
    "# etl de credits.csv"
   ]
  },
  {
   "cell_type": "code",
   "execution_count": null,
   "metadata": {},
   "outputs": [],
   "source": [
    "#leemos el csv\n",
    "credits = pd.read_csv('./data/credits.csv')\n",
    "#comprobamos que el dataset se haya cargado correctamente\n",
    "credits"
   ]
  },
  {
   "cell_type": "code",
   "execution_count": null,
   "metadata": {},
   "outputs": [],
   "source": [
    "#comprobamos el tamaño del dataframe\n",
    "print(credits.shape)\n",
    "# eliminamos los duplicados y volvemos a comprobar el tamaño del dataframe\n",
    "credits.drop_duplicates(inplace=True)\n",
    "print(credits.shape)"
   ]
  },
  {
   "cell_type": "code",
   "execution_count": null,
   "metadata": {},
   "outputs": [],
   "source": [
    "# obtenemos los nombres de los actores\n",
    "credits['cast'] = credits['cast'].fillna('[]').apply(buscar_nombre)"
   ]
  },
  {
   "cell_type": "code",
   "execution_count": null,
   "metadata": {},
   "outputs": [],
   "source": [
    "#obtenemos los nombres de los directores\n",
    "credits['director'] = credits['crew'].apply(buscar_nombre_director)"
   ]
  },
  {
   "cell_type": "code",
   "execution_count": null,
   "metadata": {},
   "outputs": [],
   "source": [
    "#eliminamos la columna crew para reducir significativamente el peso del dataframe\n",
    "credits = credits.drop(columns='crew')"
   ]
  },
  {
   "cell_type": "code",
   "execution_count": null,
   "metadata": {},
   "outputs": [],
   "source": [
    "credits"
   ]
  },
  {
   "cell_type": "markdown",
   "metadata": {},
   "source": [
    "# concatenamos y exportamos como csv"
   ]
  },
  {
   "cell_type": "code",
   "execution_count": null,
   "metadata": {},
   "outputs": [],
   "source": [
    "movies = pd.concat([movies, credits], axis=1, join='inner')\n",
    "movies = movies.drop(columns='id.1')\n",
    "movies_limpio_path = 'data/movies_limpio.csv'\n",
    "\n",
    "movies.to_csv(movies_limpio_path, sep=',', index=False, encoding='utf-8')\n"
   ]
  }
 ],
 "metadata": {
  "kernelspec": {
   "display_name": "Proyecto_integrador1",
   "language": "python",
   "name": "python3"
  },
  "language_info": {
   "codemirror_mode": {
    "name": "ipython",
    "version": 3
   },
   "file_extension": ".py",
   "mimetype": "text/x-python",
   "name": "python",
   "nbconvert_exporter": "python",
   "pygments_lexer": "ipython3",
   "version": "3.12.2"
  }
 },
 "nbformat": 4,
 "nbformat_minor": 2
}
